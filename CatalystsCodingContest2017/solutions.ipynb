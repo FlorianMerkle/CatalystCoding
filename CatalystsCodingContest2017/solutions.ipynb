{
 "cells": [
  {
   "cell_type": "code",
   "execution_count": 211,
   "id": "74f03242",
   "metadata": {},
   "outputs": [],
   "source": [
    "from helpers import distance, hyperloopTime\n",
    "import pandas as pd\n",
    "import numpy as np\n",
    "import math\n",
    "from random import randint"
   ]
  },
  {
   "cell_type": "code",
   "execution_count": 212,
   "id": "f3467b1b",
   "metadata": {},
   "outputs": [],
   "source": [
    "class location():\n",
    "    def __init__(self,name,x,y):\n",
    "        self.name = name\n",
    "        self.x = int(x)\n",
    "        self.y = int(y)\n",
    "    def distance(self, dest):\n",
    "        return math.sqrt((self.x-dest.x)**2+(self.y-dest.y)**2)\n",
    "    def hyperloopTime(self,dest):\n",
    "        dist = self.distance(dest)\n",
    "        return round(dist/250. + 200., 1)\n",
    "    def drivingTime(self,dest):\n",
    "        dist = self.distance(dest)\n",
    "        return round(dist/15., 1)\n"
   ]
  },
  {
   "cell_type": "markdown",
   "id": "d82eef94",
   "metadata": {},
   "source": [
    "# Level 1"
   ]
  },
  {
   "cell_type": "code",
   "execution_count": 217,
   "id": "3d3ca2db",
   "metadata": {},
   "outputs": [
    {
     "name": "stdout",
     "output_type": "stream",
     "text": [
      "level 1 - 1 894.0\n",
      "level 1 - 2 2044.0\n",
      "level 1 - 3 3339.0\n",
      "level 1 - 4 2499.0\n"
     ]
    }
   ],
   "source": [
    "for j in range(1,5):\n",
    "    INPATH = f'./level1/level1/level1-{j}.txt'\n",
    "    cities = dict()\n",
    "    with open(INPATH, 'r', encoding='utf-8') as infile:\n",
    "        no_of_locs = int(infile.readline())\n",
    "        for i, line in enumerate(infile):\n",
    "            if i != no_of_locs:\n",
    "                data = line.rstrip('\\n').split(' ')\n",
    "                cities[data[0]] = location(*data)\n",
    "            if i == no_of_locs:\n",
    "                data = line.rstrip('\\n').split(' ')\n",
    "                hl_start, hl_dest = cities[data[0]], cities[data[1]]\n",
    "    \n",
    "    print('level 1 -',j, round(hl_start.hyperloopTime(hl_dest),0))\n"
   ]
  },
  {
   "cell_type": "markdown",
   "id": "5dd586b1",
   "metadata": {},
   "source": [
    "# Level 2"
   ]
  },
  {
   "cell_type": "markdown",
   "id": "19f62107",
   "metadata": {},
   "source": [
    "### Helpers"
   ]
  },
  {
   "cell_type": "code",
   "execution_count": 4,
   "id": "aae9b82c",
   "metadata": {},
   "outputs": [],
   "source": [
    "def get_total_time(start, dest, hl_loc1, hl_loc2):\n",
    "    if start.distance(hl_loc1) < start.distance(hl_loc2): hl_start, hl_dest = hl_loc1, hl_loc2\n",
    "    else: hl_start, hl_dest = hl_loc2, hl_loc1\n",
    "    return round(j_start.drivingTime(hl_start) + hl_start.hyperloopTime(hl_dest) + hl_dest.drivingTime(j_dest), 0)"
   ]
  },
  {
   "cell_type": "markdown",
   "id": "29b9f65a",
   "metadata": {},
   "source": [
    "### Example Solution"
   ]
  },
  {
   "cell_type": "code",
   "execution_count": 18,
   "id": "fadd7d3a",
   "metadata": {},
   "outputs": [
    {
     "name": "stdout",
     "output_type": "stream",
     "text": [
      "0 Prague 0 286100\n",
      "\n",
      "1 Brno 152440 194430\n",
      "\n",
      "2 Vienna 126350 78010\n",
      "\n",
      "3 Bratislava 183680 71710\n",
      "\n",
      "4 Budapest 318860 0\n",
      "\n",
      "5 Prague Bratislava\n",
      "\n",
      "6 Bratislava Brno\n",
      "\n",
      "12565.0\n"
     ]
    }
   ],
   "source": [
    "INPATH = f'./level2/level2/level2-eg.txt'\n",
    "cities = dict()\n",
    "with open(INPATH, 'r', encoding='utf-8') as infile:\n",
    "    no_of_locs = int(infile.readline())\n",
    "    for i, line in enumerate(infile):\n",
    "        print(i, line)\n",
    "        data = line.rstrip('\\n').split(' ')\n",
    "        if i < no_of_locs:\n",
    "            cities[data[0]] = location(*data)\n",
    "        if i == no_of_locs:\n",
    "            j_start, j_dest = cities[data[0]], cities[data[1]]\n",
    "        if i == no_of_locs+1:\n",
    "            hl_loc1, hl_loc2 = cities[data[0]], cities[data[1]]\n",
    "print(get_total_time(j_start, j_dest, hl_loc1, hl_loc2))"
   ]
  },
  {
   "cell_type": "markdown",
   "id": "5abbf698",
   "metadata": {},
   "source": [
    "### All Solutions"
   ]
  },
  {
   "cell_type": "code",
   "execution_count": 214,
   "id": "e06f3591",
   "metadata": {},
   "outputs": [
    {
     "name": "stdout",
     "output_type": "stream",
     "text": [
      "level 2 - 1 13225.0\n",
      "level 2 - 2 20206.0\n",
      "level 2 - 3 46327.0\n",
      "level 2 - 4 15483.0\n"
     ]
    }
   ],
   "source": [
    "for j in range(1,5):\n",
    "    INPATH = f'./level2/level2/level2-{j}.txt'\n",
    "    cities = dict()\n",
    "    with open(INPATH, 'r', encoding='utf-8') as infile:\n",
    "        no_of_locs = int(infile.readline())\n",
    "        for i, line in enumerate(infile):\n",
    "            #print(i, line)\n",
    "            data = line.rstrip('\\n').split(' ')\n",
    "            if i < no_of_locs:\n",
    "                cities[data[0]] = location(*data)\n",
    "            if i == no_of_locs:\n",
    "                j_start, j_dest = cities[data[0]], cities[data[1]]\n",
    "            if i == no_of_locs+1:\n",
    "                hl_loc1, hl_loc2 = cities[data[0]], cities[data[1]]\n",
    "    print('level 2 -',j, get_total_time(j_start, j_dest, hl_loc1, hl_loc2))"
   ]
  },
  {
   "cell_type": "markdown",
   "id": "9105448c",
   "metadata": {},
   "source": [
    "# Level 3"
   ]
  },
  {
   "cell_type": "code",
   "execution_count": 215,
   "id": "6e3ac462",
   "metadata": {},
   "outputs": [
    {
     "name": "stdout",
     "output_type": "stream",
     "text": [
      "----\n",
      "level 3 - 1 2\n",
      "----\n",
      "level 3 - 2 72\n",
      "----\n",
      "level 3 - 3 11\n",
      "----\n",
      "level 3 - 4 9\n"
     ]
    }
   ],
   "source": [
    "for j in range(1,5):\n",
    "    INPATH = f'./level3/level3/level3-{j}.txt'\n",
    "\n",
    "    cities = dict()\n",
    "    with open(INPATH, 'r', encoding='utf-8') as infile:\n",
    "        no_of_locs = int(infile.readline())\n",
    "        for i in range(no_of_locs):\n",
    "\n",
    "            line = infile.readline()\n",
    "            #print(line)\n",
    "            data = line.rstrip('\\n').split(' ')\n",
    "            cities[data[0]] = location(*data)\n",
    "        no_of_journeys =  int(infile.readline())\n",
    "        print('----')\n",
    "        compare = []\n",
    "        for k in range(no_of_journeys):\n",
    "            line = infile.readline()\n",
    "            #print(line)\n",
    "            data = line.rstrip('\\n').split(' ')\n",
    "            start = cities[data[0]]\n",
    "            dest = cities[data[1]]\n",
    "            compare.append((start,dest,data[2]))\n",
    "        line = infile.readline()\n",
    "        data = line.rstrip('\\n').split(' ')\n",
    "        hl_loc1, hl_loc2 = cities[data[0]], cities[data[1]]\n",
    "    faster = 0\n",
    "    for route in compare:\n",
    "        j_start, j_dest, current_time = route\n",
    "        if get_total_time(j_start, j_dest, hl_loc1, hl_loc2)<int(current_time): faster+=1\n",
    "    print('level 3 -', j ,faster)"
   ]
  },
  {
   "cell_type": "markdown",
   "id": "3547f9f6",
   "metadata": {},
   "source": [
    "# Level 4"
   ]
  },
  {
   "cell_type": "markdown",
   "id": "90bd891c",
   "metadata": {},
   "source": [
    "### Example Solutions"
   ]
  },
  {
   "cell_type": "code",
   "execution_count": 224,
   "id": "33ece3bf",
   "metadata": {},
   "outputs": [
    {
     "name": "stdout",
     "output_type": "stream",
     "text": [
      "Prague 0 286100\n",
      "\n",
      "Brno 152440 194430\n",
      "\n",
      "Vienna 126350 78010\n",
      "\n",
      "Bratislava 183680 71710\n",
      "\n",
      "Budapest 318860 0\n",
      "\n",
      "3\n",
      "\n",
      "----\n",
      "Prague Bratislava 14564\n",
      "\n",
      "Bratislava Vienna 3290\n",
      "\n",
      "Vienna Budapest 8654\n",
      "\n",
      "1\n",
      "\n",
      "0 1\n",
      "1 1\n",
      "Prague Brno\n"
     ]
    }
   ],
   "source": [
    "\n",
    "INPATH = f'./level4/level4/level4-eg.txt'\n",
    "cities = dict()\n",
    "with open(INPATH, 'r', encoding='utf-8') as infile:\n",
    "    no_of_locs = int(infile.readline())\n",
    "    for i in range(no_of_locs):\n",
    "        \n",
    "        line = infile.readline()\n",
    "        print(line)\n",
    "        data = line.rstrip('\\n').split(' ')\n",
    "        cities[data[0]] = location(*data)\n",
    "    data = infile.readline()\n",
    "    print(data)\n",
    "    no_of_journeys =  int(data)\n",
    "    no_of_faster_journeys = 0\n",
    "    print('----')\n",
    "    compare = []\n",
    "    for j in range(no_of_journeys):\n",
    "        line = infile.readline()\n",
    "        print(line)\n",
    "        data = line.rstrip('\\n').split(' ')\n",
    "        start = cities[data[0]]\n",
    "        dest = cities[data[1]]\n",
    "        compare.append((start,dest,data[2]))\n",
    "    line = infile.readline()\n",
    "    print(line)\n",
    "    data = line.rstrip('\\n').split(' ')\n",
    "    target = int(data[0])\n",
    "    for a,b in itertools.product(list(range(0,4)), list(range(0,4))):\n",
    "        hl_loc1, hl_loc2 = list(cities.values())[a], list(cities.values())[b]\n",
    "        faster = 0\n",
    "        for route in compare:\n",
    "            j_start, j_dest, current_time = route\n",
    "            if get_total_time(j_start, j_dest, hl_loc1, hl_loc2)<int(current_time): faster+=1\n",
    "        print(faster, target)\n",
    "        if faster >= target:\n",
    "            print(hl_loc1.name, hl_loc2.name)\n",
    "            break"
   ]
  },
  {
   "cell_type": "markdown",
   "id": "0ab865bb",
   "metadata": {},
   "source": [
    "### All Solutions"
   ]
  },
  {
   "cell_type": "code",
   "execution_count": 177,
   "id": "5526c870",
   "metadata": {
    "scrolled": false
   },
   "outputs": [
    {
     "name": "stdout",
     "output_type": "stream",
     "text": [
      "10\n",
      "----\n",
      "Sankt_Poelten Graz\n",
      "35\n",
      "----\n",
      "Buzau Bucharest\n",
      "84\n",
      "----\n",
      "Noisy-le-Grand Marseille_08\n",
      "123\n",
      "----\n",
      "Duesseldorf Bezirk_Kreuzberg\n"
     ]
    }
   ],
   "source": [
    "import itertools\n",
    "for j in range(1,5):\n",
    "    INPATH = f'./level4/level4/level4-{j}.txt'\n",
    "    cities = dict()\n",
    "    with open(INPATH, 'r', encoding='utf-8') as infile:\n",
    "        no_of_locs = int(infile.readline())\n",
    "        print(no_of_locs)\n",
    "        for i in range(no_of_locs):\n",
    "\n",
    "            line = infile.readline()\n",
    "            #print(line)\n",
    "            data = line.rstrip('\\n').split(' ')\n",
    "            cities[data[0]] = location(*data)\n",
    "        data = infile.readline()\n",
    "        #print(data)\n",
    "        no_of_journeys =  int(data)\n",
    "        print('----')\n",
    "        compare = []\n",
    "        for _ in range(no_of_journeys):\n",
    "            line = infile.readline()\n",
    "            #print(line)\n",
    "            data = line.rstrip('\\n').split(' ')\n",
    "            start = cities[data[0]]\n",
    "            dest = cities[data[1]]\n",
    "            compare.append((start,dest,data[2]))\n",
    "        line = infile.readline()\n",
    "        #print(line)\n",
    "        data = line.rstrip('\\n').split(' ')\n",
    "        target = int(data[0])\n",
    "        for a,b in itertools.product(list(range(0,no_of_locs-1)), list(range(0,no_of_locs-1))):\n",
    "            hl_loc1, hl_loc2 = list(cities.values())[a], list(cities.values())[b]\n",
    "            faster = 0\n",
    "            for route in compare:\n",
    "                j_start, j_dest, current_time = route\n",
    "                if get_total_time(j_start, j_dest, hl_loc1, hl_loc2)<int(current_time): faster+=1\n",
    "            #print(faster, target)\n",
    "            if faster >= target:\n",
    "                print(hl_loc1.name, hl_loc2.name)\n",
    "                break"
   ]
  },
  {
   "cell_type": "markdown",
   "id": "26cb8a10",
   "metadata": {},
   "source": [
    "# Level 5"
   ]
  },
  {
   "cell_type": "markdown",
   "id": "d1ef1e32",
   "metadata": {},
   "source": [
    "### Helpers"
   ]
  },
  {
   "cell_type": "code",
   "execution_count": 145,
   "id": "d545b4bc",
   "metadata": {},
   "outputs": [],
   "source": [
    "def closest_station(start, hl_route):\n",
    "    closest_station = hl_route[0]\n",
    "    for hl_station in hl_route:\n",
    "        if start.distance(hl_station)<start.distance(closest_station):\n",
    "            closest_station=hl_station\n",
    "    return closest_station\n",
    "\n",
    "def caculate_hyperloop_travel_time(hl_route, hl_start, hl_dest):\n",
    "    hl_route_readable = [stop.name for stop in hl_route]\n",
    "    start_idx = min(hl_route_readable.index(hl_start.name), hl_route_readable.index(hl_dest.name))\n",
    "    dest_idx = max(hl_route_readable.index(hl_start.name), hl_route_readable.index(hl_dest.name))\n",
    "    travel_time = 0 \n",
    "    for i, stop in enumerate(hl_route[start_idx: dest_idx]):\n",
    "        travel_time += stop.hyperloopTime(hl_route[i+1])\n",
    "    return travel_time\n",
    "\n",
    "def calculate_total_journey_time(hl_route, j_start, j_dest):\n",
    "    hl_start = closest_station(j_start, hl_route)\n",
    "    hl_dest=closest_station(j_dest, hl_route)\n",
    "    #journey_route = [j_start, hl_start, hl_dest, j_dest]\n",
    "    hl_travel_time = caculate_hyperloop_travel_time(hl_route, hl_start, hl_dest)\n",
    "    #print(j_start.drivingTime(hl_start) , hl_travel_time, j_dest.drivingTime(hl_dest))\n",
    "    return j_start.drivingTime(hl_start) + hl_travel_time + j_dest.drivingTime(hl_dest)"
   ]
  },
  {
   "cell_type": "markdown",
   "id": "0276885e",
   "metadata": {},
   "source": [
    "### Example Solution"
   ]
  },
  {
   "cell_type": "code",
   "execution_count": 146,
   "id": "f7fb0e99",
   "metadata": {},
   "outputs": [
    {
     "name": "stdout",
     "output_type": "stream",
     "text": [
      "5463.0\n"
     ]
    }
   ],
   "source": [
    "\n",
    "INPATH = f'./level5/level5/level5-eg.txt'\n",
    "cities = dict()\n",
    "with open(INPATH, 'r', encoding='utf-8') as infile:\n",
    "    no_of_locs = int(infile.readline())\n",
    "    for i in range(no_of_locs):\n",
    "        \n",
    "        line = infile.readline()\n",
    "        #print(line)\n",
    "        data = line.rstrip('\\n').split(' ')\n",
    "        cities[data[0]] = location(*data)\n",
    "    \n",
    "    line = infile.readline()\n",
    "    data = line.rstrip('\\n').split(' ')\n",
    "    j_start, j_dest = cities[data[0]], cities[data[1]]\n",
    "    #target = int(data[0])\n",
    "    line = infile.readline()\n",
    "    data = line.rstrip('\\n').split(' ')\n",
    "    #print(data)\n",
    "    len_of_route = data[0]\n",
    "    hl_route = [cities[stop] for stop in data[1:]]\n",
    "    print(calculate_total_journey_time(hl_route, j_start, j_dest))\n"
   ]
  },
  {
   "cell_type": "markdown",
   "id": "b3d9c4d3",
   "metadata": {},
   "source": [
    "### All Solutions"
   ]
  },
  {
   "cell_type": "code",
   "execution_count": 219,
   "id": "815b51bb",
   "metadata": {},
   "outputs": [
    {
     "name": "stdout",
     "output_type": "stream",
     "text": [
      "level 5 - 1 7716.7\n",
      "level 5 - 2 21380.9\n",
      "level 5 - 3 33089.5\n",
      "level 5 - 4 30600.7\n"
     ]
    }
   ],
   "source": [
    "\n",
    "for j in range(1,5):\n",
    "    INPATH = f'./level5/level5/level5-{j}.txt'\n",
    "    cities = dict()\n",
    "    with open(INPATH, 'r', encoding='utf-8') as infile:\n",
    "        no_of_locs = int(infile.readline())\n",
    "        for i in range(no_of_locs):\n",
    "\n",
    "            line = infile.readline()\n",
    "            #print(line)\n",
    "            data = line.rstrip('\\n').split(' ')\n",
    "            cities[data[0]] = location(*data)\n",
    "\n",
    "        line = infile.readline()\n",
    "        data = line.rstrip('\\n').split(' ')\n",
    "        j_start, j_dest = cities[data[0]], cities[data[1]]\n",
    "        #target = int(data[0])\n",
    "        line = infile.readline()\n",
    "        data = line.rstrip('\\n').split(' ')\n",
    "        #print(data)\n",
    "        len_of_route = data[0]\n",
    "        hl_route = [cities[stop] for stop in data[1:]]\n",
    "        print('level 5 -',j,calculate_total_journey_time(hl_route, j_start, j_dest))\n",
    "\n",
    "        "
   ]
  },
  {
   "cell_type": "markdown",
   "id": "033f0719",
   "metadata": {},
   "source": [
    "# Level 6"
   ]
  },
  {
   "cell_type": "markdown",
   "id": "f1168988",
   "metadata": {},
   "source": [
    "### Example Solution"
   ]
  },
  {
   "cell_type": "code",
   "execution_count": 221,
   "id": "57bd196f",
   "metadata": {},
   "outputs": [
    {
     "name": "stdout",
     "output_type": "stream",
     "text": [
      "Prague 0 286100\n",
      "\n",
      "Brno 152440 194430\n",
      "\n",
      "Vienna 126350 78010\n",
      "\n",
      "Bratislava 183680 71710\n",
      "\n",
      "Budapest 318860 0\n",
      "\n",
      "3\n",
      "\n",
      "Prague Bratislava 14564\n",
      "\n",
      "Bratislava Vienna 3290\n",
      "\n",
      "Vienna Budapest 8654\n",
      "\n",
      "['2']\n",
      "230000\n",
      "4 3\n",
      "valid route\n",
      "Budapest Bratislava\n"
     ]
    }
   ],
   "source": [
    "INPATH = f'./level6/level6/level6-eg.txt'\n",
    "cities = dict()\n",
    "with open(INPATH, 'r', encoding='utf-8') as infile:\n",
    "    no_of_locs = int(infile.readline())\n",
    "    for i in range(no_of_locs):\n",
    "        \n",
    "        line = infile.readline()\n",
    "        print(line)\n",
    "        data = line.rstrip('\\n').split(' ')\n",
    "        cities[data[0]] = location(*data)\n",
    "    \n",
    "    line = infile.readline()\n",
    "    print(line)\n",
    "    data = line.rstrip('\\n').split(' ')\n",
    "    no_of_journeys =  int(line)\n",
    "    for _ in range(no_of_journeys):\n",
    "            line = infile.readline()\n",
    "            print(line)\n",
    "            data = line.rstrip('\\n').split(' ')\n",
    "            start = cities[data[0]]\n",
    "            dest = cities[data[1]]\n",
    "            compare.append((start,dest,data[2]))\n",
    "    line = infile.readline()\n",
    "    data = line.rstrip('\\n').split(' ')\n",
    "    print(data)\n",
    "    target = int(data[0])\n",
    "    line = infile.readline()\n",
    "    data = line.rstrip('\\n').split(' ')\n",
    "    max_dist = int(data[0])\n",
    "    print(max_dist)\n",
    "    \n",
    "    while True:\n",
    "        a,b = randint(0, len(cities)-1), randint(0, len(cities)-1)\n",
    "        print(a,b)\n",
    "        no_of_faster_journeys = 0\n",
    "        hl_loc1, hl_loc2 = list(cities.values())[a], list(cities.values())[b]\n",
    "        dist = hl_loc1.distance(hl_loc2) \n",
    "        if  0 < dist < max_dist:\n",
    "            print('valid route')\n",
    "            for route in compare:\n",
    "                j_start, j_dest, current_time = route\n",
    "                if get_total_time(j_start, j_dest, hl_loc1, hl_loc2)<int(current_time): faster+=1\n",
    "            #print(faster, target)\n",
    "            if faster >= target:\n",
    "                print(hl_loc1.name, hl_loc2.name)\n",
    "                break\n",
    "    "
   ]
  },
  {
   "cell_type": "markdown",
   "id": "49866a11",
   "metadata": {},
   "source": [
    "### All Solutions"
   ]
  },
  {
   "cell_type": "code",
   "execution_count": 222,
   "id": "ea4ce390",
   "metadata": {},
   "outputs": [
    {
     "name": "stdout",
     "output_type": "stream",
     "text": [
      "Sankt_Poelten Villach\n",
      "Vereeniging Volksrust\n",
      "Fuenterrabia La_Pineda\n",
      "Sao_Jose_do_Rio_Preto Lagoa_Vermelha\n"
     ]
    }
   ],
   "source": [
    "\n",
    "\n",
    "for j in range(1,5):\n",
    "    INPATH = f'./level6/level6/level6-{j}.txt'\n",
    "    cities = dict()\n",
    "    with open(INPATH, 'r', encoding='utf-8') as infile:\n",
    "        no_of_locs = int(infile.readline())\n",
    "        for i in range(no_of_locs):\n",
    "            line = infile.readline()\n",
    "            data = line.rstrip('\\n').split(' ')\n",
    "            cities[data[0]] = location(*data)\n",
    "        line = infile.readline()\n",
    "        data = line.rstrip('\\n').split(' ')\n",
    "        no_of_journeys =  int(line)\n",
    "        for _ in range(no_of_journeys):\n",
    "                line = infile.readline()\n",
    "                data = line.rstrip('\\n').split(' ')\n",
    "                start = cities[data[0]]\n",
    "                dest = cities[data[1]]\n",
    "                compare.append((start,dest,data[2]))\n",
    "        line = infile.readline()\n",
    "        data = line.rstrip('\\n').split(' ')\n",
    "        target = int(data[0])\n",
    "        line = infile.readline()\n",
    "        data = line.rstrip('\\n').split(' ')\n",
    "        max_dist = int(data[0])\n",
    "        while True:\n",
    "            a,b = randint(0, len(cities)-1), randint(0, len(cities)-1)\n",
    "            no_of_faster_journeys = 0\n",
    "            hl_loc1, hl_loc2 = list(cities.values())[a], list(cities.values())[b]\n",
    "            dist = hl_loc1.distance(hl_loc2)\n",
    "            #check if route is valid\n",
    "            if  0 < dist < max_dist:\n",
    "                for route in compare:\n",
    "                    j_start, j_dest, current_time = route\n",
    "                    if get_total_time(j_start, j_dest, hl_loc1, hl_loc2)<int(current_time): faster+=1\n",
    "                #print(faster, target)\n",
    "                if faster >= target:\n",
    "                    print(hl_loc1.name, hl_loc2.name)\n",
    "                    break\n"
   ]
  },
  {
   "cell_type": "markdown",
   "id": "84bbab6f",
   "metadata": {},
   "source": [
    "# Level 7"
   ]
  },
  {
   "cell_type": "markdown",
   "id": "575883dd",
   "metadata": {},
   "source": [
    "### Example Solution"
   ]
  },
  {
   "cell_type": "code",
   "execution_count": 207,
   "id": "4f88443c",
   "metadata": {
    "scrolled": true
   },
   "outputs": [
    {
     "name": "stdout",
     "output_type": "stream",
     "text": [
      "Prague 0 286100\n",
      "\n",
      "Brno 152440 194430\n",
      "\n",
      "Vienna 126350 78010\n",
      "\n",
      "Bratislava 183680 71710\n",
      "\n",
      "Budapest 318860 0\n",
      "\n",
      "Prague Vienna\n",
      "\n",
      "Bratislava\n",
      "\n",
      "Bratislava\n",
      "2\n",
      "\n",
      "['3', 'Brno', 'Bratislava', 'Budapest']\n",
      "['2', 'Vienna', 'Bratislava']\n",
      "Brno Bratislava\n",
      "Brno Vienna\n",
      "True\n",
      "False\n",
      "13295.900000000001\n"
     ]
    }
   ],
   "source": [
    "\n",
    "INPATH = f'./level7/level7/level7-eg.txt'\n",
    "cities = dict()\n",
    "with open(INPATH, 'r', encoding='utf-8') as infile:\n",
    "    no_of_locs = int(infile.readline())\n",
    "    for i in range(no_of_locs):\n",
    "        \n",
    "        line = infile.readline()\n",
    "        print(line)\n",
    "        data = line.rstrip('\\n').split(' ')\n",
    "        cities[data[0]] = location(*data)\n",
    "    \n",
    "    line = infile.readline()\n",
    "    data = line.rstrip('\\n').split(' ')\n",
    "    print(line)\n",
    "    j_start, j_dest = cities[data[0]], cities[data[1]]\n",
    "    #target = int(data[0])\n",
    "    line = infile.readline()\n",
    "    \n",
    "    print(line)\n",
    "    data = line.rstrip('\\n').split(' ')\n",
    "    hub = cities[data[0]]\n",
    "    print(hub.name)\n",
    "    line = infile.readline()\n",
    "    number_of_routes = int(line)\n",
    "    print(line)\n",
    "    all_routes = []\n",
    "    for _ in range(number_of_routes):\n",
    "        line = infile.readline()\n",
    "        data = line.rstrip('\\n').split(' ')\n",
    "        print(data)\n",
    "        len_of_route = data[0]\n",
    "        all_routes.append([cities[stop] for stop in data[1:]])\n",
    "    hl_start = all_routes[0][0]\n",
    "    hl_dest = all_routes[0][0]\n",
    "    for route in all_routes:\n",
    "        routes_closest_start = closest_station(j_start, route)\n",
    "        routes_closest_dest = closest_station(j_dest, route)\n",
    "        if routes_closest_start.distance(j_start) < hl_start.distance(j_start):\n",
    "            hl_start = routes_closest_start\n",
    "        if routes_closest_dest.distance(j_dest) < hl_start.distance(j_dest):\n",
    "            hl_dest = routes_closest_dest\n",
    "        print(hl_start.name, hl_dest.name)\n",
    "    #selct first route\n",
    "    for route in all_routes:\n",
    "        print(hl_start in route)\n",
    "        if hl_start in route: start_route = route\n",
    "        if hl_dest in route : dest_route = route\n",
    "    if start_route == dest_route:\n",
    "        print(calculate_total_journey_time(start_route, j_start, j_dest))\n",
    "    else:\n",
    "        first_leg = calculate_total_journey_time(start_route, j_start, hub)\n",
    "        second_leg = calculate_total_journey_time(dest_route, j_dest, hub)\n",
    "        print(first_leg+300+second_leg)"
   ]
  },
  {
   "cell_type": "markdown",
   "id": "203ea766",
   "metadata": {},
   "source": [
    "### All Solutions"
   ]
  },
  {
   "cell_type": "code",
   "execution_count": 223,
   "id": "36322351",
   "metadata": {
    "scrolled": true
   },
   "outputs": [
    {
     "name": "stdout",
     "output_type": "stream",
     "text": [
      "10705.6\n",
      "2553.9\n",
      "30624.4\n",
      "19174.1\n"
     ]
    }
   ],
   "source": [
    "for j in range(1,5):\n",
    "    INPATH = f'./level7/level7/level7-{j}.txt'\n",
    "    cities = dict()\n",
    "    with open(INPATH, 'r', encoding='utf-8') as infile:\n",
    "        no_of_locs = int(infile.readline())\n",
    "        for i in range(no_of_locs):\n",
    "            line = infile.readline()\n",
    "            data = line.rstrip('\\n').split(' ')\n",
    "            cities[data[0]] = location(*data)\n",
    "        line = infile.readline()\n",
    "        data = line.rstrip('\\n').split(' ')\n",
    "        j_start, j_dest = cities[data[0]], cities[data[1]]\n",
    "        line = infile.readline()\n",
    "        data = line.rstrip('\\n').split(' ')\n",
    "        hub = cities[data[0]]\n",
    "        line = infile.readline()\n",
    "        number_of_routes = int(line)\n",
    "        all_routes = []\n",
    "        for _ in range(number_of_routes):\n",
    "            line = infile.readline()\n",
    "            data = line.rstrip('\\n').split(' ')\n",
    "            len_of_route = data[0]\n",
    "            all_routes.append([cities[stop] for stop in data[1:]])\n",
    "        hl_start = all_routes[0][0]\n",
    "        hl_dest = all_routes[0][0]\n",
    "        for route in all_routes:\n",
    "            routes_closest_start = closest_station(j_start, route)\n",
    "            routes_closest_dest = closest_station(j_dest, route)\n",
    "            if routes_closest_start.distance(j_start) < hl_start.distance(j_start):\n",
    "                hl_start = routes_closest_start\n",
    "            if routes_closest_dest.distance(j_dest) < hl_start.distance(j_dest):\n",
    "                hl_dest = routes_closest_dest\n",
    "        #selct routes\n",
    "        for route in all_routes:\n",
    "            if hl_start in route: start_route = route\n",
    "            if hl_dest in route : dest_route = route\n",
    "        if start_route == dest_route:\n",
    "            print(calculate_total_journey_time(start_route, j_start, j_dest))\n",
    "        else:\n",
    "            first_leg = calculate_total_journey_time(start_route, j_start, hub)\n",
    "            second_leg = calculate_total_journey_time(dest_route, j_dest, hub)\n",
    "            print(first_leg+300+second_leg)"
   ]
  },
  {
   "cell_type": "code",
   "execution_count": null,
   "id": "54ccf88a",
   "metadata": {},
   "outputs": [],
   "source": []
  },
  {
   "cell_type": "code",
   "execution_count": null,
   "id": "d96112bd",
   "metadata": {},
   "outputs": [],
   "source": []
  },
  {
   "cell_type": "code",
   "execution_count": null,
   "id": "8bea5a31",
   "metadata": {},
   "outputs": [],
   "source": []
  }
 ],
 "metadata": {
  "kernelspec": {
   "display_name": "Python 3 (ipykernel)",
   "language": "python",
   "name": "python3"
  },
  "language_info": {
   "codemirror_mode": {
    "name": "ipython",
    "version": 3
   },
   "file_extension": ".py",
   "mimetype": "text/x-python",
   "name": "python",
   "nbconvert_exporter": "python",
   "pygments_lexer": "ipython3",
   "version": "3.9.7"
  }
 },
 "nbformat": 4,
 "nbformat_minor": 5
}
